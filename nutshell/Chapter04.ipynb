{
  "cells": [
    {
      "cell_type": "markdown",
      "metadata": {},
      "source": [
        "# Book: C# 9.0 in a Nutshell \n",
        "\n",
        "## Chapter 4 : Advanced C#"
      ]
    },
    {
      "cell_type": "markdown",
      "metadata": {},
      "source": [
        "- Delegates\n",
        "- Events\n",
        "- Lambda Expressions\n",
        "- Anonymous Methods\n",
        "- try Statements and Exceptions\n",
        "- Enumerations and Iterators\n",
        "- Nullable Value Types\n",
        "- Nullable Reference Types\n",
        "- Extension Methods\n",
        "- Anonymous Types\n",
        "- Tuples\n",
        "- Records\n",
        "- Patterns\n",
        "- Attributes\n",
        "- Caller Info Attributes\n",
        "- Dynamic Binding\n",
        "- Operator Overloading\n",
        "- Unsafe code and Pointers\n",
        "- Preprocessor Directives\n",
        "- XML Documentation\n",
        ""
      ]
    },
    {
      "cell_type": "markdown",
      "metadata": {},
      "source": [
        "### Delegates\n",
        "\n",
        "- https://docs.microsoft.com/en-us/dotnet/csharp/programming-guide/delegates/\n",
        "- Kind of like a function pointer but more than a function pointer\n",
        "- A delegate is a type that represents references to methods with a particular parameter list and return type.\n",
        "- Good for callback methods\n",
        "- Delegates can be chained together\n",
        "- \n",
        "\n",
        ""
      ]
    },
    {
      "cell_type": "code",
      "execution_count": 1,
      "metadata": {
        "dotnet_interactive": {
          "language": "csharp"
        }
      },
      "source": [
        "// first write the method signature\n",
        "// public int PerformCalculations(int x, int y);\n",
        "// now add the delegate word \n",
        "\n",
        "public delegate int DoMath(int x, int y);\n",
        "\n",
        "public int Add(int x, int y) => x + y;\n",
        "public int Sub(int x, int y) => x - y;\n",
        "\n",
        "DoMath dAdd = Add;\n",
        "DoMath dSub = Sub;\n",
        "\n",
        "Console.WriteLine(dAdd(2,3));\n",
        "Console.WriteLine(dSub.Invoke(2,4));"
      ],
      "outputs": []
    },
    {
      "cell_type": "code",
      "execution_count": 1,
      "metadata": {
        "dotnet_interactive": {
          "language": "csharp"
        }
      },
      "source": [
        "// Can pass delegates as function parameter\n",
        "\n",
        "public int WhatKindOfMathDoIPerform(int x, int y, DoMath dm)\n",
        "{\n",
        "    return dm(x,y);\n",
        "}\n",
        "\n",
        "Console.WriteLine(WhatKindOfMathDoIPerform(2, 3, dAdd));\n",
        "Console.WriteLine(WhatKindOfMathDoIPerform(2, 3, dSub));\n",
        ""
      ],
      "outputs": []
    },
    {
      "cell_type": "code",
      "execution_count": 1,
      "metadata": {
        "dotnet_interactive": {
          "language": "csharp"
        }
      },
      "source": [
        "// https://stackoverflow.com/questions/2253874/standard-deviation-in-linq\n",
        "// This uses Welford's method which has higher numerical accuracy \n",
        "// compared to the Average(x^2)-Average(x)^2 method.\n",
        "public static double StdDev(IEnumerable<double> values)\n",
        "{\n",
        "    // ref: http://warrenseen.com/blog/2006/03/13/how-to-calculate-standard-deviation/\n",
        "    double mean = 0.0;\n",
        "    double sum = 0.0;\n",
        "    double stdDev = 0.0;\n",
        "    int n = 0;\n",
        "    foreach (double val in values)\n",
        "    {\n",
        "        n++;\n",
        "        double delta = val - mean;\n",
        "        mean += delta / n;\n",
        "        sum += delta * (val - mean);\n",
        "    }\n",
        "    if (1 < n)\n",
        "        stdDev = Math.Sqrt(sum / (n - 1));\n",
        "\n",
        "    return stdDev;\n",
        "}\n",
        "\n",
        ""
      ],
      "outputs": []
    },
    {
      "cell_type": "code",
      "execution_count": 1,
      "metadata": {
        "dotnet_interactive": {
          "language": "csharp"
        }
      },
      "source": [
        "\n",
        "// run many operations at the same time\n",
        "// ! beware : return types are lost except for the last one\n",
        "// * there is a solution : GetInvocationList\n",
        "// https://docs.microsoft.com/en-us/previous-versions/visualstudio/visual-studio-2008/ff518994(v=orm.10)\n",
        "// step through the list and invoke each method manually\n",
        "// hence using void \n",
        "public delegate void PrintStats(double[] x);\n",
        "\n",
        "public void PrintMax(double[] x) => Console.WriteLine($\"max: {x.Max()}\");\n",
        "public void PrintMin(double[] x) => Console.WriteLine($\"min: {x.Min()}\");\n",
        "public void PrintAvg(double[] x) => Console.WriteLine($\"avg: {x.Average()}\");\n",
        "public void PrintCount(double[] x) => Console.WriteLine($\"count: {x.Count()}\");\n",
        "public void PrintSum(double[] x) => Console.WriteLine($\"sum: {x.Sum()}\");\n",
        "// ! linq doesn't provide std dev : look at method def in the previous code cell\n",
        "public void PrintStdDev(double[] x) => Console.WriteLine($\"std dev: {StdDev(x)}\");\n",
        "\n",
        "PrintStats stats = Max;\n",
        "stats += PrintMin;\n",
        "stats += PrintAvg;\n",
        "stats += PrintCount;\n",
        "stats += PrintSum;\n",
        "stats += PrintStdDev;\n",
        "\n",
        "stats(new double[]{1,2,3,4,5});\n",
        "\n",
        ""
      ],
      "outputs": []
    },
    {
      "cell_type": "code",
      "execution_count": 1,
      "metadata": {
        "dotnet_interactive": {
          "language": "csharp"
        }
      },
      "source": [
        "// hmmm...so we can run many ops \n",
        "public delegate void LoggedIn(string loginName);\n",
        "\n",
        "// let me know when someone logs in, so i can write to log\n",
        "public void WriteToLog(string loginName) \n",
        "            => Console.WriteLine($\"{loginName} logged in at {DateTime.Now}\");\n",
        "\n",
        "// let me know when someone logs in, so i can update dashboard \n",
        "public static int activeUsers = 0;\n",
        "public void BumpActiveUser(string loginName) \n",
        "            => Console.WriteLine($\"Active Users: {++activeUsers}\");\n",
        "\n",
        "// logged in user delegate\n",
        "LoggedIn dLgdIn = WriteToLog;\n",
        "dLgdIn += BumpActiveUser;\n",
        "\n",
        "// null will raise exception\n",
        "//dLgdIn = null;\n",
        "\n",
        "// login method\n",
        "public bool Login(string loginName, string password) \n",
        "{\n",
        "    bool authenticated = false;\n",
        "    authenticated =  \n",
        "                // bart simpson from 'Simpsons'\n",
        "                (loginName == \"bart\") && (password == \"Eat my shorts\")\n",
        "                // fry from 'Futurama'\n",
        "                || (loginName == \"fry\") && (password == \"Shut up and take my money!\");\n",
        "    \n",
        "    // notify listeners\n",
        "    //if(authenticated) dLgdIn(loginName);\n",
        "    if(authenticated) dLgdIn?.Invoke(loginName);\n",
        "\n",
        "    return authenticated;\n",
        "}\n",
        ""
      ],
      "outputs": []
    },
    {
      "cell_type": "code",
      "execution_count": 1,
      "metadata": {
        "dotnet_interactive": {
          "language": "csharp"
        }
      },
      "source": [
        "\n",
        "// let's log in and test out the above code\n",
        "Login(\"bart\", \"Eat my shorts\");\n",
        "Login(\"homer\", \"D'oh!\");\n",
        "Login(\"fry\", \"Shut up and take my money!\");\n",
        "Login(\"bender\", \"Bite my Shiny Metal Ass\");\n",
        ""
      ],
      "outputs": []
    },
    {
      "cell_type": "markdown",
      "metadata": {},
      "source": [
        "### Generic Delegates\n",
        "\n",
        ""
      ]
    },
    {
      "cell_type": "code",
      "execution_count": 1,
      "metadata": {
        "dotnet_interactive": {
          "language": "csharp"
        }
      },
      "source": [
        "public delegate void PrintStats<T>(T[] arg);\n",
        "\n",
        "PrintStats<double> dPS_G = PrintMin;\n",
        "dPS_G(new double[]{22, 45, 6});"
      ],
      "outputs": []
    },
    {
      "cell_type": "markdown",
      "metadata": {},
      "source": [
        "#### Funcs and Action Delegates\n",
        "\n",
        "- Funcs : If they return a value\n",
        "- Action : If they don't return a value\n",
        "- https://docs.microsoft.com/en-us/dotnet/api/system.func-1?view=net-5.0\n",
        "- https://docs.microsoft.com/en-us/dotnet/api/system.action?view=net-5.0\n",
        "\n",
        "delegate TResult Func <out TResult>                ();  \n",
        "delegate TResult Func <in T, out TResult>          (T arg);  \n",
        "delegate TResult Func <in T1, in T2, out TResult>  (T1 arg1, T2 arg2);  \n",
        "... and so on, up to T16  \n",
        "\n",
        "delegate void Action                 ();  \n",
        "delegate void Action <in T>          (T arg);  \n",
        "delegate void Action <in T1, in T2>  (T1 arg1, T2 arg2);  \n",
        "... and so on, up to T16  "
      ]
    },
    {
      "cell_type": "code",
      "execution_count": 1,
      "metadata": {
        "dotnet_interactive": {
          "language": "csharp"
        }
      },
      "source": [
        "// Func<double> dPS_f = PrintMin;\n",
        "// Func<double []> dPS_fa = PrintMin;\n",
        "// Action<double> dPS_a = PrintMin;\n",
        "\n",
        "Action<double []> dPS_aa = PrintMin;\n",
        "dPS_aa(new double[]{22, 45, 6});\n",
        ""
      ],
      "outputs": []
    },
    {
      "cell_type": "markdown",
      "metadata": {},
      "source": [
        "Events"
      ]
    },
    {
      "cell_type": "code",
      "execution_count": 1,
      "metadata": {
        "dotnet_interactive": {
          "language": "csharp"
        }
      },
      "source": [
        "public delegate void PriceChangedHandler (decimal oldPrice,decimal newPrice);\n",
        "\n",
        "public class Stock\n",
        "{\n",
        "    string symbol;\n",
        "    decimal price;\n",
        "\n",
        "    public Stock (string symbol) => this.symbol = symbol;\n",
        "\n",
        "    public event PriceChangedHandler PriceChanged;\n",
        "\n",
        "    public decimal Price\n",
        "    {\n",
        "        get => price;\n",
        "        set\n",
        "        {\n",
        "            if (price == value) return;      // Exit if nothing has changed\n",
        "\n",
        "            decimal oldPrice = price;\n",
        "            price = value;\n",
        "            \n",
        "            if (PriceChanged != null)           // If invocation list not\n",
        "                PriceChanged (oldPrice, price);   // empty, fire event.\n",
        "        }\n",
        "    }\n",
        "}"
      ],
      "outputs": []
    },
    {
      "cell_type": "markdown",
      "metadata": {},
      "source": [
        "Standard Event Pattern"
      ]
    },
    {
      "cell_type": "code",
      "execution_count": 1,
      "metadata": {
        "dotnet_interactive": {
          "language": "csharp"
        }
      },
      "source": [
        "public class PriceChangedEventArgs : System.EventArgs\n",
        "{\n",
        "    public readonly decimal LastPrice;\n",
        "    public readonly decimal NewPrice;\n",
        "\n",
        "    public PriceChangedEventArgs (decimal lastPrice, decimal newPrice)\n",
        "    {\n",
        "        LastPrice = lastPrice;\n",
        "        NewPrice = newPrice;\n",
        "    }\n",
        "}"
      ],
      "outputs": []
    },
    {
      "cell_type": "code",
      "execution_count": 1,
      "metadata": {
        "dotnet_interactive": {
          "language": "csharp"
        }
      },
      "source": [
        "public class Stokk\n",
        "{\n",
        "    decimal price;\n",
        "\n",
        "    public Stokk (string symbol) => Symbol = symbol;\n",
        "\n",
        "    public event EventHandler<PriceChangedEventArgs> PriceChanged;\n",
        "\n",
        "    protected virtual void OnPriceChanged (PriceChangedEventArgs e)\n",
        "    {\n",
        "        PriceChanged?.Invoke(this, e);\n",
        "    }\n",
        "\n",
        "    public string Symbol { get; init; }\n",
        "\n",
        "    public decimal Price\n",
        "    {\n",
        "        get => price;\n",
        "        set\n",
        "        {\n",
        "            if (price == value) return;      // Exit if nothing has changed\n",
        "\n",
        "            decimal oldPrice = price;\n",
        "            price = value;\n",
        "            \n",
        "            OnPriceChanged (new PriceChangedEventArgs(oldPrice, price));   // empty, fire event.\n",
        "        }\n",
        "    }\n",
        "}"
      ],
      "outputs": []
    },
    {
      "cell_type": "code",
      "execution_count": 1,
      "metadata": {
        "dotnet_interactive": {
          "language": "csharp"
        }
      },
      "source": [
        "void stokk_PriceHasChanged(object sender, PriceChangedEventArgs e)\n",
        "{\n",
        "    if(e.NewPrice > e.LastPrice)\n",
        "        { Console.WriteLine($\"{(sender as Stokk).Symbol} rose from {e.LastPrice} to {e.NewPrice}\"); }\n",
        "    else if( e.NewPrice < e.LastPrice )\n",
        "        { Console.WriteLine($\"{(sender as Stokk).Symbol} fell from {e.LastPrice} to {e.NewPrice}\"); }\n",
        "    else \n",
        "        { Console.WriteLine($\"{(sender as Stokk).Symbol} didn't change in price\"); }\n",
        "}\n",
        "\n",
        "Stokk apple = new Stokk(\"APPL\");\n",
        "apple.Price = 40.0M;\n",
        "apple.PriceChanged += stokk_PriceHasChanged;\n",
        "// price rose\n",
        "apple.Price = 4000.0M;\n",
        "// price fell\n",
        "apple.Price = 3900.0M;\n",
        "// price stayed same\n",
        "apple.Price = 3900.0M;\n",
        ""
      ],
      "outputs": []
    },
    {
      "cell_type": "code",
      "execution_count": 1,
      "metadata": {
        "dotnet_interactive": {
          "language": "csharp"
        }
      },
      "source": [
        "// sync vs async delegate calls\n",
        "// can we delay the execution\n",
        "using System.Threading;\n",
        "\n",
        "Action<int> TypeThisEssay;\n",
        "\n",
        "// fast \n",
        "public void ICanType_100_Words_a_Sec(int words) => ICanType_X_Words_a_Sec(100, words);\n",
        "\n",
        "// slow\n",
        "public void ICanType_20_Words_a_Sec(int words) => ICanType_X_Words_a_Sec(20,words);\n",
        "\n",
        "public void ICanType_X_Words_a_Sec(int speed, int words)\n",
        "{\n",
        "    double time = (words*1.0/speed) * 1000; \n",
        "    Thread.Sleep((int)time); \n",
        "    Console.WriteLine($\"{speed} words/sec time taken: {time} msec\"); \n",
        "}\n",
        "\n",
        "TypeThisEssay = ICanType_100_Words_a_Sec;\n",
        "TypeThisEssay += ICanType_20_Words_a_Sec;\n",
        "\n",
        "// sync call\n",
        "int shortEssay = 45;\n",
        "TypeThisEssay?.Invoke(shortEssay);\n",
        "Console.WriteLine(\"All writers finished writing.\");\n",
        ""
      ],
      "outputs": []
    },
    {
      "cell_type": "code",
      "execution_count": 1,
      "metadata": {
        "dotnet_interactive": {
          "language": "csharp"
        }
      },
      "source": [
        "// Asyncrhonous programming model\n",
        "// https://docs.microsoft.com/en-us/dotnet/standard/asynchronous-programming-patterns/asynchronous-programming-model-apm\n",
        "// The callback that gets called when \n",
        "// is finished processing\n",
        "\n",
        "// later on we will discuss async await delegates\n",
        "\n",
        "// for AsyncResult\n",
        "using System.Runtime.Remoting.Messaging; \n",
        "\n",
        "// AsyncResult doesn't exist in .NET Core\n",
        "private static void EssayWritten(IAsyncResult iResult)\n",
        "{\n",
        "    AsyncResult result = (AsyncResult)iResult;\n",
        "\n",
        "    Action performQuickly = (Action)result.AsyncDelegate;\n",
        "\n",
        "    performQuickly.EndInvoke(result);\n",
        "\n",
        "    Console.WriteLine(\"All writers finished writing.\");\n",
        "}\n",
        "\n",
        "AsyncCallback cbEssayWritten = new AsyncCallback(EssayWritten);\n",
        "TypeThisEssay?.BeginInvoke(100, cbEssayWritten, null);\n",
        "\n",
        "Console.WriteLine(\"Let's not wait for all writers to finish! Carry On!\");\n",
        "\n",
        ""
      ],
      "outputs": []
    },
    {
      "cell_type": "code",
      "execution_count": 1,
      "metadata": {
        "dotnet_interactive": {
          "language": "csharp"
        }
      },
      "source": [
        "// Task Based asynchronous pattern\n",
        "// https://docs.microsoft.com/en-us/dotnet/standard/asynchronous-programming-patterns/task-based-asynchronous-pattern-tap\n",
        "// https://devblogs.microsoft.com/dotnet/migrating-delegate-begininvoke-calls-for-net-core/\n",
        "// https://blog.stephencleary.com/2014/02/synchronous-and-asynchronous-delegate.html\n",
        "\n",
        "\n",
        "Task tskTypeThisEssay = Task.Run( () => TypeThisEssay?.Invoke(shortEssay) );\n",
        "Console.WriteLine(\"Let's not wait for all writers to finish! Carry On!\");\n",
        "\n",
        "// super fast\n",
        "public void ICanType_200_Words_a_Sec(int words) => ICanType_X_Words_a_Sec(200,words);\n",
        "\n",
        "ICanType_200_Words_a_Sec(shortEssay);\n",
        "\n",
        "// what happens if we comment the following line\n",
        "// we don't await\n",
        "await tskTypeThisEssay;\n",
        "Console.WriteLine(\"All writers finished writing.\");\n",
        ""
      ],
      "outputs": []
    }
  ],
  "metadata": {
    "kernelspec": {
      "display_name": ".NET (C#)",
      "language": "C#",
      "name": ".net-csharp"
    },
    "language_info": {
      "file_extension": ".cs",
      "mimetype": "text/x-csharp",
      "name": "C#",
      "pygments_lexer": "csharp",
      "version": "8.0"
    }
  },
  "nbformat": 4,
  "nbformat_minor": 4
}