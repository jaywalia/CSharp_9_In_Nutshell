{
  "cells": [
    {
      "cell_type": "markdown",
      "source": [
        "# Book: C# 9.0 in a Nutshell\n",
        "\n",
        "## Chapter 1 : Introducing C# & .NET\n"
      ],
      "metadata": {}
    },
    {
      "cell_type": "markdown",
      "source": [
        "### Object Orientation\n",
        "\n",
        "- Unified Type system\n",
        "- Classes and Interfaces\n",
        "- Properties, methods and events\n",
        "- Borrows from functional programming\n",
        "    - Functions can be treated as values \"Delegates\"\n",
        "    - Patterns for purity\n",
        "        - Lambda expressions\n",
        "        - Query expresions\n",
        "        - Records (immutable types)\n",
        "\n",
        "### Type Safety\n",
        "\n",
        "Type Safe, static typing, strongly typed language\n",
        "\n",
        "### Memory Management\n",
        "\n",
        "Garbage collection\n",
        "For performance critical hotspots and interoperability, pointers and explicit memory allocaiton is permitted in blocks that are marked unsafe\n",
        "\n",
        "### Platform Support\n",
        "\n",
        "Windows, Linux, MacOS, Android, iOS, Win 10 devices\n",
        "\n",
        "### CLRs, BCLs, and Runtimes\n",
        "\n",
        "CLR : Common Language Runtime\n",
        "BCL : Base Class Library\n",
        "\n",
        "Runtime : CLR + BCL + optional app layer(asp.net)\n",
        "\n",
        "### .NET 5\n",
        "\n",
        "Latest runtime (after .NET core 3.1)   \n",
        ".NET Core is the version that came after .NET Framework\n",
        ".NET Framework is the older legacy version\n",
        "\n",
        "\n",
        "> Assembly contains Intermediate Language (IL) and type information (metadata).\n",
        "ILSpy to Decompile IL TO C# code.\n",
        "\n",
        "\n",
        "### Brief History of C#\n",
        "> https://en.wikipedia.org/wiki/C_Sharp_(programming_language)\n",
        "\n",
        "#### C# 1.0 [January 2002]\n",
        "##### .NET Framework 1.0\n",
        "\n",
        "#### C# 1.1, 1.2 [April 2003]\n",
        "##### .NET Framework 1.1\n",
        "\n",
        "#### New in C# 2.0 [NOvember 2005]\n",
        "##### .NET Framework 2.0\n",
        "##### .NET Framework 3.0\n",
        "- Generics\n",
        "- Nullable Value Types\n",
        "- Iterators\n",
        "- Anonymous methods\n",
        "- Partial classes & Static classes\n",
        "- Namespace alias qualifier\n",
        "- Friend Assemblies\n",
        "- Fixed Size buffers ?\n",
        "\n",
        "These paved way to LINQ in C# 3\n",
        "\n",
        "#### New in C# 3.0 [November 2007]\n",
        "##### .NET Framework 3.5\n",
        "- LINQ [*Language-Integrated Query*]\n",
        "- Implicitly typed local variables (var)\n",
        "- Anonymous types\n",
        "- Implicitly typed arrays\n",
        "- Object initializers\n",
        "- Lambda expressions\n",
        "- Extension methods\n",
        "- Query expressions\n",
        "- Expression Trees\n",
        "- Automatic properties\n",
        "- Partial methods\n",
        "\n",
        "#### New in C# 4.0 [April 2010]\n",
        "##### .NET Framework 4.0\n",
        "- Dynamic Binding\n",
        "    - Useful in Interoperating with dynamic languages and COM components\n",
        "- Optional Parameters\n",
        "- Type variance\n",
        "- COM interoperability\n",
        "\n",
        "#### New in C# 5.0 [August 2012]\n",
        "##### .NET Framework 4.5\n",
        "- Asynchronous Functions \n",
        "    - Two new keywords : async & await\n",
        "\n",
        "#### New in C# 6.0 [July 2015]\n",
        "##### .NET Framework 4.6 , .NET Core 1.0, 1.1\n",
        "- New Generation compiler, Rosyln, Written in C#\n",
        "    - Pipeline is exposed via libraries\n",
        "    - Perform code analysis\n",
        "    - https://github.com/dotnet/roslyn\n",
        "    \n",
        "\n",
        "- Null Conditional Elvis [?]"
      ],
      "metadata": {}
    },
    {
      "cell_type": "code",
      "execution_count": null,
      "source": [
        "StringBuilder sb = new StringBuilder();\n",
        "sb.Append(\"Hello World!\");\n",
        "\n",
        "// UNCOMMENT following to check effect of null\n",
        "//sb = null;\n",
        "\n",
        "// no check\n",
        "string msg = sb.ToString();\n",
        "\n",
        "// check for null\n",
        "string msg_null_check = null;\n",
        "if (sb != null) msg_null_check = sb.ToString();\n",
        "\n",
        "// check for null with null conditional \n",
        "// called elvis b/c looks like Elvis hair style\n",
        "string msg6 = sb?.ToString();"
      ],
      "outputs": [],
      "metadata": {
        "dotnet_interactive": {
          "language": "csharp"
        }
      }
    },
    {
      "cell_type": "markdown",
      "source": [
        "- Expression Bodied functions [x => x*x]"
      ],
      "metadata": {}
    },
    {
      "cell_type": "code",
      "execution_count": null,
      "source": [
        "// normal function style\n",
        "int Square(int x) \n",
        "{ \n",
        "    return x * x; \n",
        "}\n",
        "\n",
        "// can be written as an expression\n",
        "// terse and clean\n",
        "int Square_EBF(int x) => x * x;\n",
        "\n",
        "// similar behavior\n",
        "Console.WriteLine(Square(3));\n",
        "Console.WriteLine(Square_EBF(3));"
      ],
      "outputs": [],
      "metadata": {
        "dotnet_interactive": {
          "language": "csharp"
        }
      }
    },
    {
      "cell_type": "markdown",
      "source": [
        "- Property Initializers"
      ],
      "metadata": {}
    },
    {
      "cell_type": "code",
      "execution_count": null,
      "source": [
        "public DateTime TimeCreated { get; set; } = DateTime.Now;\n",
        "\n",
        "// if you want readonly, remove the set\n",
        "public DateTime TimeCreated_RO { get; } = DateTime.Now;\n",
        "\n",
        "Console.WriteLine(TimeCreated);\n",
        "Console.WriteLine(TimeCreated_RO);\n",
        "\n",
        "// following line doesn't compile\n",
        "// TimeCreated_RO = DateTime.Now.AddHours(1);\n"
      ],
      "outputs": [],
      "metadata": {
        "dotnet_interactive": {
          "language": "csharp"
        }
      }
    },
    {
      "cell_type": "markdown",
      "source": [
        "- Index Initializers"
      ],
      "metadata": {}
    },
    {
      "cell_type": "code",
      "execution_count": null,
      "source": [
        "// before\n",
        "var hindiNumerals = new Dictionary<int,string>() {\n",
        "    {1, \"१\"}, {2, \"२\"}, {3, \"३\"}, {4, \"४\"}, {5, \"५\"},\n",
        "    {6, \"६\"}, {7, \"७\"}, {8, \"८\"}, {9, \"९\"}, {10, \"१०\"}\n",
        "};\n",
        "Console.WriteLine(\"Hindi #s:\" + String.Join(\",\", hindiNumerals.Values));\n",
        "\n",
        "// better readability\n",
        "// indexed pairs [] = \"\"\n",
        "var chineseNumerals = new Dictionary<int,string>() {\n",
        "    [1] = \"一\", [2] = \"二\", [3] = \"三\", [4] = \"四\", [5] = \"五\", \n",
        "    [6] = \"六\", [7] = \"七\", [8] = \"八\", [9] = \"九\", [10] = \"十\", \n",
        "};\n",
        "Console.WriteLine(\"Chinese #s:\" + String.Join(\",\", chineseNumerals.Values));\n",
        "\n"
      ],
      "outputs": [],
      "metadata": {
        "dotnet_interactive": {
          "language": "csharp"
        }
      }
    },
    {
      "cell_type": "markdown",
      "source": [
        "- String Interpolation"
      ],
      "metadata": {}
    },
    {
      "cell_type": "code",
      "execution_count": null,
      "source": [
        "string Superman = \"Kal-El\"; // because Superman deserves a capital S\n",
        "string welcome = \"Welcome to Planet Earth : \";\n",
        "// string join\n",
        "Console.WriteLine(welcome + Superman);\n",
        "// c style argument substitution\n",
        "Console.WriteLine(\"Welcome to Planet Earth : {0}\", Superman);\n",
        "\n",
        "// string interpolation : notice the '$' before start of string\n",
        "Console.WriteLine($\"{welcome}{Superman}\");\n",
        "\n",
        "// other examples\n",
        "int x = 4;\n",
        "int y = 2;\n",
        "Console.WriteLine($\"x = {x}, y = {y}, x + y = {x + y}\");"
      ],
      "outputs": [],
      "metadata": {
        "dotnet_interactive": {
          "language": "csharp"
        }
      }
    },
    {
      "cell_type": "markdown",
      "source": [
        "- Exception filters"
      ],
      "metadata": {}
    },
    {
      "cell_type": "code",
      "execution_count": null,
      "source": [
        "using System.Net;\n",
        "string ip;\n",
        "try\n",
        "{\n",
        "  ip = new WebClient().DownloadString (\"http://estudy.uh.edu/ip\");\n",
        "}\n",
        "catch (WebException ex) when (ex.Status == WebExceptionStatus.Timeout)\n",
        "{\n",
        "  Console.WriteLine(\"Wow! What a slow website\");\n",
        "}\n",
        "\n",
        "Console.WriteLine($\"Your IP is: {ip}\");"
      ],
      "outputs": [],
      "metadata": {
        "dotnet_interactive": {
          "language": "csharp"
        }
      }
    },
    {
      "cell_type": "markdown",
      "source": [
        "- using static Namespace"
      ],
      "metadata": {}
    },
    {
      "cell_type": "code",
      "execution_count": null,
      "source": [
        "// tired of writing Console.WriteLine\n",
        "// how about just writeline\n",
        "using static System.Console;\n",
        "WriteLine(\"I am free of Console because all methods of type Console were imported\");"
      ],
      "outputs": [],
      "metadata": {
        "dotnet_interactive": {
          "language": "csharp"
        }
      }
    },
    {
      "cell_type": "markdown",
      "source": [
        "- nameof\n",
        "    - https://docs.microsoft.com/en-us/dotnet/csharp/language-reference/operators/nameof\n",
        "\n",
        "    - https://stackoverflow.com/questions/31695900/what-is-the-purpose-of-nameof\n"
      ],
      "metadata": {}
    },
    {
      "cell_type": "code",
      "execution_count": null,
      "source": [
        "using System.ComponentModel;\n",
        "WriteLine($\"What did we name Superman variable : {nameof(Superman)}\");\n",
        "\n",
        "public class Person \n",
        "{\n",
        "    private string _name;\n",
        "    public string Name\n",
        "    {\n",
        "        get => _name;\n",
        "        set => _name = value ?? \n",
        "            throw new ArgumentNullException(\n",
        "                nameof(value), \n",
        "                $\"{nameof(Name)} cannot be null\");\n",
        "    }\n",
        "}\n",
        "\n",
        "Person jay = new Person();\n",
        "jay.Name = \"Jay\";\n",
        "Console.WriteLine(jay.Name);\n",
        "\n",
        "// verbatim identifiers [@ before C# keyword null]\n",
        "Person @null = new Person();\n",
        "@null.Name = \"Null\";\n",
        "// uncomment the following line to see the exception being thrown\n",
        "//@null.Name = null;\n",
        "Console.WriteLine(@null.Name);\n",
        "\n",
        "\n",
        "// Another example : Property changed notification\n",
        "\n",
        "public class Model : INotifyPropertyChanged\n",
        "{\n",
        "    // From the INotifyPropertyChanged interface\n",
        "    public event PropertyChangedEventHandler PropertyChanged;\n",
        "\n",
        "    private string foo;\n",
        "    public String Foo\n",
        "    {\n",
        "        get { return this.foo; }\n",
        "        set\n",
        "        {\n",
        "            this.foo = value;\n",
        "            // Old code:\n",
        "            PropertyChanged(this, new PropertyChangedEventArgs(\"Foo\"));\n",
        "\n",
        "            // New Code after C# 6.0\n",
        "            PropertyChanged(this, new PropertyChangedEventArgs(nameof(Foo)));           \n",
        "        }\n",
        "    }\n",
        "}\n",
        "\n"
      ],
      "outputs": [],
      "metadata": {
        "dotnet_interactive": {
          "language": "csharp"
        }
      }
    },
    {
      "cell_type": "markdown",
      "source": [
        "> VERBATIM IDENTIFIERS\n",
        "    - https://docs.microsoft.com/en-us/dotnet/csharp/language-reference/tokens/verbatim\n",
        "    - c# keywords to identifiers\n",
        "    - verbatim string literal\n",
        "    - distinguish between attributes if naming conflict arises\n"
      ],
      "metadata": {}
    },
    {
      "cell_type": "code",
      "execution_count": null,
      "source": [
        "string[] @for = { \"John\", \"James\", \"Joan\", \"Jamie\" };\n",
        "for (int ctr = 0; ctr < @for.Length; ctr++)\n",
        "{\n",
        "   Console.WriteLine($\"Here is your gift, {@for[ctr]}!\");\n",
        "}"
      ],
      "outputs": [],
      "metadata": {
        "dotnet_interactive": {
          "language": "csharp"
        }
      }
    },
    {
      "cell_type": "markdown",
      "source": [],
      "metadata": {}
    },
    {
      "cell_type": "markdown",
      "source": [
        "#### New in C# 7.0 to 7.3\n",
        "\n",
        "https://docs.microsoft.com/en-us/dotnet/csharp/whats-new/csharp-7\n",
        "\n",
        "##### C# 7.0 [March 2017]\n",
        "##### .NET Framework 4.7\n"
      ],
      "metadata": {}
    },
    {
      "cell_type": "markdown",
      "source": [
        "- Numeric Literals \n",
        "    - Better readability"
      ],
      "metadata": {}
    },
    {
      "cell_type": "code",
      "execution_count": null,
      "source": [
        "// integer literal\n",
        "int billion = 1_000_000_000;\n",
        "// binary literal\n",
        "var b = 0b0000_1111;"
      ],
      "outputs": [],
      "metadata": {
        "dotnet_interactive": {
          "language": "csharp"
        }
      }
    },
    {
      "cell_type": "markdown",
      "source": [
        "- Out variables\n",
        "    - Out params on the fly\n",
        "    - Discard out params, that we are not interested i"
      ],
      "metadata": {}
    },
    {
      "cell_type": "code",
      "execution_count": null,
      "source": [
        "// OUT PARAMS ON THE FLY\n",
        "// before\n",
        "double pi = 0;\n",
        "bool parsed = double.TryParse(\"3.14\", out pi);\n",
        "Console.WriteLine(pi);\n",
        "\n",
        "// after - notice declaration and use \n",
        "bool parsed2 = double.TryParse(\"3.14\", out double pi2);\n",
        "Console.WriteLine(pi2);\n",
        "\n",
        "// DISCARD NOT NEEDED ONES\n",
        "// looks like this helps call out older methods.\n",
        "// SomeBigOldAPIMethodInWindows( out _, out _, out _, out int iWantThisValueOnly, out _, out _);\n",
        "\n"
      ],
      "outputs": [],
      "metadata": {
        "dotnet_interactive": {
          "language": "csharp"
        }
      }
    },
    {
      "cell_type": "markdown",
      "source": [
        "\n",
        "- Type patterns & Pattern Variables\n",
        "    - Pattern Variables : Introduce variables on the fly with 'is'\n",
        "    - Improved switch\n"
      ],
      "metadata": {}
    },
    {
      "cell_type": "code",
      "execution_count": null,
      "source": [
        "// https://docs.microsoft.com/en-us/dotnet/csharp/whats-new/csharp-7#pattern-matching\n",
        "// better readability\n",
        "// supports is expression, switch expression\n",
        "\n",
        "void WorksWitLotOfTypes(object x)\n",
        "{\n",
        "    if (x is string ss) Console.WriteLine (ss.Length);\n",
        "\n",
        "    switch (x)\n",
        "    {\n",
        "    case int i:\n",
        "        Console.WriteLine (\"It's an int!\");\n",
        "        break;\n",
        "    case string s:\n",
        "        Console.WriteLine (s.Length);    // We can use the s variable\n",
        "        break;\n",
        "    case bool b when b == true:        // Matches only when b is true\n",
        "        Console.WriteLine (\"True\");\n",
        "        break;\n",
        "    case null:\n",
        "        Console.WriteLine (\"Nothing\");\n",
        "        break;\n",
        "    }\n",
        "}\n",
        "\n",
        "WorksWitLotOfTypes(0);\n",
        "WorksWitLotOfTypes(\"hello\");\n",
        "WorksWitLotOfTypes(true);\n",
        "WorksWitLotOfTypes(false);\n",
        "WorksWitLotOfTypes(null);"
      ],
      "outputs": [],
      "metadata": {
        "dotnet_interactive": {
          "language": "csharp"
        }
      }
    },
    {
      "cell_type": "markdown",
      "source": [
        "\n",
        "- Local Methods\n",
        "    - Method within a method\n"
      ],
      "metadata": {}
    },
    {
      "cell_type": "code",
      "execution_count": null,
      "source": [
        "// closure\n",
        "void WriteSqrt()\n",
        "{\n",
        "  Console.WriteLine (Sqrt (4));\n",
        "  Console.WriteLine (Sqrt (9));\n",
        "  Console.WriteLine (Sqrt (16));\n",
        "\n",
        "  // Sqrt is not visible outside WriteSqrt()\n",
        "  int Sqrt (int x) => (int)Math.Sqrt(x);\n",
        "}\n",
        "\n",
        "WriteSqrt();"
      ],
      "outputs": [],
      "metadata": {
        "dotnet_interactive": {
          "language": "csharp"
        }
      }
    },
    {
      "cell_type": "markdown",
      "source": [
        "    \n",
        "- More expression bodied members\n",
        "    - C# 6 introduced them for methods, read only properties, operators and indexers\n",
        "    - Extends to constructors, read/write properties, finalizers\n"
      ],
      "metadata": {}
    },
    {
      "cell_type": "code",
      "execution_count": null,
      "source": [
        "public class Person\n",
        "{\n",
        "  string name;\n",
        "\n",
        "  public Person (string name) => Name = name;\n",
        "\n",
        "  public string Name\n",
        "  {\n",
        "    get => name;\n",
        "    set => name = value ?? \"\";\n",
        "  }\n",
        "\n",
        "  ~Person () => Console.WriteLine (\"finalize\");\n",
        "}"
      ],
      "outputs": [],
      "metadata": {
        "dotnet_interactive": {
          "language": "csharp"
        }
      }
    },
    {
      "cell_type": "markdown",
      "source": [
        "\n",
        "- Deconstructors\n"
      ],
      "metadata": {}
    },
    {
      "cell_type": "code",
      "execution_count": null,
      "source": [
        "public class User\n",
        "{\n",
        "    string _name;\n",
        "    public User (string name) => _name = name;\n",
        "    public void Deconstruct (out string firstName, out string lastName)\n",
        "    {\n",
        "      int spacePos = _name.IndexOf (' ');\n",
        "      firstName = _name.Substring (0, spacePos);\n",
        "      lastName = _name.Substring (spacePos + 1);\n",
        "    }\n",
        "\n",
        "}\n",
        "\n",
        "var alan = new User(\"Alan Turing\");\n",
        "var (firstname, lastname) = alan;\n",
        "Console.WriteLine(lastname + \", \"+ firstname);"
      ],
      "outputs": [],
      "metadata": {
        "dotnet_interactive": {
          "language": "csharp"
        }
      }
    },
    {
      "cell_type": "markdown",
      "source": [
        "\n",
        "- Tuples\n",
        "C#’s new tuples are syntactic sugar for using the System.ValueTuple<…> generic structs.\n",
        "With tuples, functions can return multiple values without resorting to out parameters or extra type baggage\n"
      ],
      "metadata": {}
    },
    {
      "cell_type": "code",
      "execution_count": null,
      "source": [
        "var knuth = (name:\"Donald Knuth\", age:83);\n",
        "Console.WriteLine (knuth.name);     \n",
        "Console.WriteLine (knuth.age);      "
      ],
      "outputs": [],
      "metadata": {
        "dotnet_interactive": {
          "language": "csharp"
        }
      }
    },
    {
      "cell_type": "markdown",
      "source": [
        "\n",
        "- Throw expressions\n",
        "    - Statements vs Expressions\n",
        "    - https://docs.microsoft.com/en-us/dotnet/csharp/programming-guide/statements-expressions-operators/\n",
        "    - Statement :\n",
        "        - The actions that a program takes are expressed in statements.\n",
        "        - https://docs.microsoft.com/en-us/dotnet/csharp/language-reference/language-specification/statements\n",
        "\n",
        "    - Expression : \n",
        "        - An expression is a sequence of operators and operands.\n",
        "        - https://docs.microsoft.com/en-us/dotnet/csharp/language-reference/language-specification/expressions\n"
      ],
      "metadata": {}
    },
    {
      "cell_type": "code",
      "execution_count": null,
      "source": [
        "public string StillNeedToCodeThisAwesomeMethod() => throw new NotImplementedException();\n",
        "\n",
        "StillNeedToCodeThisAwesomeMethod();"
      ],
      "outputs": [],
      "metadata": {
        "dotnet_interactive": {
          "language": "csharp"
        }
      }
    },
    {
      "cell_type": "markdown",
      "source": [
        "\n",
        "##### C# 7.1 [August 2017]\n",
        "##### .NET Core 2.0\n",
        "- Omit type with default ????\n",
        "- Switch: pattern match on generic type param\n",
        "- Numeric Literal Improvements\n",
        "\n",
        "##### C# 7.2 [November 2017]\n",
        "- private protected modifier (intersection of internal & protected )\n",
        "- follow named arguments with positional ones\n",
        "- readonly structs\n",
        "- in modifier, ref locals, ref returns, ref structs\n",
        "\n",
        "##### C# 7.3\n",
        "##### .NET Framework 4.8, .NET Core 2.1, 2.2\n",
        "> .NET Framework 4.8 evolution stops. Push to Core.\n",
        "- Equality operators with Tuples\n",
        "- Overload resolution improved\n",
        "- Apply attributes to backing fields\n"
      ],
      "metadata": {}
    },
    {
      "cell_type": "markdown",
      "source": [
        "##### C# 8.0 [September 2019]\n",
        "##### .NET Core 3.0, 3.1"
      ],
      "metadata": {}
    },
    {
      "cell_type": "markdown",
      "source": [
        "##### C# 9.0 [September 2020]\n",
        "##### .NET Core 5.0 Renamed to .NET 5.0"
      ],
      "metadata": {}
    },
    {
      "cell_type": "markdown",
      "source": [],
      "metadata": {}
    }
  ],
  "metadata": {
    "kernelspec": {
      "display_name": ".NET (C#)",
      "language": "C#",
      "name": ".net-csharp"
    },
    "language_info": {
      "file_extension": ".cs",
      "mimetype": "text/x-csharp",
      "name": "C#",
      "pygments_lexer": "csharp",
      "version": "8.0"
    }
  },
  "nbformat": 4,
  "nbformat_minor": 4
}