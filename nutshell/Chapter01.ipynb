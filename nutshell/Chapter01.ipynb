{
  "cells": [
    {
      "cell_type": "markdown",
      "metadata": {},
      "source": [
        "# Chapter 1 : Introducing C# & .NET\n",
        ""
      ]
    },
    {
      "cell_type": "markdown",
      "metadata": {},
      "source": [
        "> Chief Architect : Anders Hejlsberg"
      ]
    },
    {
      "cell_type": "markdown",
      "metadata": {},
      "source": [
        "### Object Orientation\n",
        "\n",
        "- Unified Type system\n",
        "- Classes and Interfaces\n",
        "- Properties, methods and events\n",
        "- Borrows from functional programming\n",
        "    - Functions can be treated as values \"Delegates\"\n",
        "    - Patterns for purity\n",
        "        - Lambda expressions\n",
        "        - Query expresions\n",
        "        - Records (immutable types)\n",
        "\n",
        "### Type Safety\n",
        "\n",
        "Type Safe, static typing, strongly typed language\n",
        "\n",
        "### Memory Management\n",
        "\n",
        "Garbage collection\n",
        "For performance critical hotspots and interoperability, pointers and explicit memory allocaiton is permitted in blocks that are marked unsafe\n",
        "\n",
        "### Platform Support\n",
        "\n",
        "Windows, Linux, MacOS, Android, iOS, Win 10 devices\n",
        "\n",
        "### CLRs, BCLs, and Runtimes\n",
        "\n",
        "CLR : Common Language Runtime\n",
        "BCL : Base Class Library\n",
        "\n",
        "Runtime : CLR + BCL + optional app layer(asp.net)\n",
        "\n",
        "### .NET 5\n",
        "\n",
        "Latest runtime (after .NET core 3.1)   \n",
        ".NET Core is the version that came after .NET Framework\n",
        ".NET Framework is the older legacy version\n",
        "\n",
        "\n",
        "> Assembly contains Intermediate Language (IL) and type information (metadata).\n",
        "ILSpy to Decompile IL TO C# code.\n",
        "\n",
        "\n",
        "### Brief History of C#\n",
        "\n",
        "#### New in C# 2.0\n",
        "\n",
        "- Generics\n",
        "- Nullable Value Types\n",
        "- Iterators\n",
        "- Anonymous methods\n",
        "- Partial classes & Static classes\n",
        "- Namespace alias qualifier\n",
        "- Friend Assemblies\n",
        "- Fixed Size buffers ?\n",
        "\n",
        "These paved way to LINQ in C# 3\n",
        "\n",
        "#### New in C# 3.0\n",
        "\n",
        "- LINQ [*Language-Integrated Query*]\n",
        "- Implicitly typed local variables (var)\n",
        "- Anonymous types\n",
        "- Implicitly typed arrays\n",
        "- Object initializers\n",
        "- Lambda expressions\n",
        "- Extension methods\n",
        "- Query expressions\n",
        "- Expression Trees\n",
        "- Automatic properties\n",
        "- Partial methods\n",
        "\n",
        "#### New in C# 4.0\n",
        "\n",
        "- Dynamic Binding\n",
        "    - Useful in Interoperating with dynamic languages and COM components\n",
        "- Optional Parameters\n",
        "- Type variance\n",
        "- COM interoperability\n",
        "\n",
        "#### New in C# 5.0\n",
        "\n",
        "- Asynchronous Functions \n",
        "    - Two new keywords : async & await\n",
        "\n",
        "#### New in C# 6.0\n",
        "\n",
        "- New Generation compiler, Rosyln, Written in C#\n",
        "    - Pipeline is exposed via libraries\n",
        "    - Perform code analysis\n",
        "    - https://github.com/dotnet/roslyn\n",
        "    \n",
        "\n",
        "- Null Conditional Elvis [?]"
      ]
    },
    {
      "cell_type": "code",
      "execution_count": 1,
      "metadata": {
        "dotnet_interactive": {
          "language": "csharp"
        }
      },
      "source": [
        "StringBuilder sb = new StringBuilder();\n",
        "sb.Append(\"Hello World!\");\n",
        "\n",
        "// UNCOMMENT following to check effect of null\n",
        "//sb = null;\n",
        "\n",
        "// no check\n",
        "string msg = sb.ToString();\n",
        "\n",
        "// check for null\n",
        "string msg_null_check = null;\n",
        "if (sb != null) msg_null_check = sb.ToString();\n",
        "\n",
        "// check for null with null conditional \n",
        "// called elvis b/c looks like Elvis hair style\n",
        "string msg6 = sb?.ToString();"
      ],
      "outputs": []
    },
    {
      "cell_type": "markdown",
      "metadata": {},
      "source": [
        "- Expression Bodied functions [x => x*x]"
      ]
    },
    {
      "cell_type": "code",
      "execution_count": 1,
      "metadata": {
        "dotnet_interactive": {
          "language": "csharp"
        }
      },
      "source": [
        "// normal function style\n",
        "int Square(int x) \n",
        "{ \n",
        "    return x * x; \n",
        "}\n",
        "\n",
        "// can be written as an expression\n",
        "// terse and clean\n",
        "int Square_EBF(int x) => x * x;\n",
        "\n",
        "// similar behavior\n",
        "Console.WriteLine(Square(3));\n",
        "Console.WriteLine(Square_EBF(3));"
      ],
      "outputs": [
        {
          "output_type": "execute_result",
          "data": {
            "text/plain": "9\n"
          },
          "execution_count": 1,
          "metadata": {}
        },
        {
          "output_type": "execute_result",
          "data": {
            "text/plain": "9\n"
          },
          "execution_count": 1,
          "metadata": {}
        }
      ]
    },
    {
      "cell_type": "markdown",
      "metadata": {},
      "source": [
        "- Property Initializers"
      ]
    },
    {
      "cell_type": "code",
      "execution_count": 1,
      "metadata": {
        "dotnet_interactive": {
          "language": "csharp"
        }
      },
      "source": [
        "public DateTime TimeCreated { get; set; } = DateTime.Now;\n",
        "\n",
        "// if you want readonly, remove the set\n",
        "public DateTime TimeCreated_RO { get; } = DateTime.Now;\n",
        "\n",
        "Console.WriteLine(TimeCreated);\n",
        "Console.WriteLine(TimeCreated_RO);\n",
        "\n",
        "// following line doesn't compile\n",
        "// TimeCreated_RO = DateTime.Now.AddHours(1);\n",
        ""
      ],
      "outputs": [
        {
          "output_type": "execute_result",
          "data": {
            "text/plain": "03/25/2021 04:07:22\n"
          },
          "execution_count": 1,
          "metadata": {}
        },
        {
          "output_type": "execute_result",
          "data": {
            "text/plain": "03/25/2021 04:07:22\n"
          },
          "execution_count": 1,
          "metadata": {}
        }
      ]
    },
    {
      "cell_type": "markdown",
      "metadata": {},
      "source": [
        "- Index Initializers"
      ]
    },
    {
      "cell_type": "code",
      "execution_count": 1,
      "metadata": {
        "dotnet_interactive": {
          "language": "csharp"
        }
      },
      "source": [
        "// before\n",
        "var hindiNumerals = new Dictionary<int,string>() {\n",
        "    {1, \"१\"}, {2, \"२\"}, {3, \"३\"}, {4, \"४\"}, {5, \"५\"},\n",
        "    {6, \"६\"}, {7, \"७\"}, {8, \"८\"}, {9, \"९\"}, {10, \"१०\"}\n",
        "};\n",
        "Console.WriteLine(\"Hindi #s:\" + String.Join(\",\", hindiNumerals.Values));\n",
        "\n",
        "// better readability\n",
        "// indexed pairs [] = \"\"\n",
        "var chineseNumerals = new Dictionary<int,string>() {\n",
        "    [1] = \"一\", [2] = \"二\", [3] = \"三\", [4] = \"四\", [5] = \"五\", \n",
        "    [6] = \"六\", [7] = \"七\", [8] = \"八\", [9] = \"九\", [10] = \"十\", \n",
        "};\n",
        "Console.WriteLine(\"Chinese #s:\" + String.Join(\",\", chineseNumerals.Values));\n",
        "\n",
        ""
      ],
      "outputs": [
        {
          "output_type": "execute_result",
          "data": {
            "text/plain": "Hindi #s:१,२,३,४,५,६,७,८,९,१०\n"
          },
          "execution_count": 1,
          "metadata": {}
        },
        {
          "output_type": "execute_result",
          "data": {
            "text/plain": "Chinese #s:一,二,三,四,五,六,七,八,九,十\n"
          },
          "execution_count": 1,
          "metadata": {}
        }
      ]
    },
    {
      "cell_type": "markdown",
      "metadata": {},
      "source": [
        "- String Interpolation"
      ]
    },
    {
      "cell_type": "code",
      "execution_count": 1,
      "metadata": {
        "dotnet_interactive": {
          "language": "csharp"
        }
      },
      "source": [
        "string Superman = \"Kal-El\"; // because Superman deserves a capital S\n",
        "string welcome = \"Welcome to Planet Earth : \";\n",
        "// string join\n",
        "Console.WriteLine(welcome + Superman);\n",
        "// c style argument substitution\n",
        "Console.WriteLine(\"Welcome to Planet Earth : {0}\", Superman);\n",
        "\n",
        "// string interpolation : notice the '$' before start of string\n",
        "Console.WriteLine($\"{welcome}{Superman}\");\n",
        "\n",
        "// other examples\n",
        "int x = 4;\n",
        "int y = 2;\n",
        "Console.WriteLine($\"x = {x}, y = {y}, x + y = {x + y}\");"
      ],
      "outputs": [
        {
          "output_type": "execute_result",
          "data": {
            "text/plain": "Welcome to Planet Earth : Kal-El\n"
          },
          "execution_count": 1,
          "metadata": {}
        },
        {
          "output_type": "execute_result",
          "data": {
            "text/plain": "Welcome to Planet Earth : Kal-El\n"
          },
          "execution_count": 1,
          "metadata": {}
        },
        {
          "output_type": "execute_result",
          "data": {
            "text/plain": "Welcome to Planet Earth : Kal-El\n"
          },
          "execution_count": 1,
          "metadata": {}
        },
        {
          "output_type": "execute_result",
          "data": {
            "text/plain": "x = 4, y = 2, x + y = 6\n"
          },
          "execution_count": 1,
          "metadata": {}
        }
      ]
    },
    {
      "cell_type": "markdown",
      "metadata": {},
      "source": [
        "- Exception filters"
      ]
    },
    {
      "cell_type": "code",
      "execution_count": 1,
      "metadata": {
        "dotnet_interactive": {
          "language": "csharp"
        }
      },
      "source": [
        "using System.Net;\n",
        "string ip;\n",
        "try\n",
        "{\n",
        "  ip = new WebClient().DownloadString (\"http://estudy.uh.edu/ip\");\n",
        "}\n",
        "catch (WebException ex) when (ex.Status == WebExceptionStatus.Timeout)\n",
        "{\n",
        "  Console.WriteLine(\"Wow! What a slow website\");\n",
        "}\n",
        "\n",
        "Console.WriteLine($\"Your IP is: {ip}\");"
      ],
      "outputs": [
        {
          "output_type": "execute_result",
          "data": {
            "text/plain": "Your IP is: 98.200.244.76\r\n<br/>\r\nserver :: es2012\n"
          },
          "execution_count": 1,
          "metadata": {}
        }
      ]
    },
    {
      "cell_type": "markdown",
      "metadata": {},
      "source": [
        "- using static Namespace"
      ]
    },
    {
      "cell_type": "code",
      "execution_count": 1,
      "metadata": {
        "dotnet_interactive": {
          "language": "csharp"
        }
      },
      "source": [
        "// tired of writing Console.WriteLine\n",
        "// how about just writeline\n",
        "using static System.Console;\n",
        "WriteLine(\"I am free of Console because all methods of type Console were imported\");"
      ],
      "outputs": [
        {
          "output_type": "execute_result",
          "data": {
            "text/plain": "I am free of Console because all methods of type Console were imported\n"
          },
          "execution_count": 1,
          "metadata": {}
        }
      ]
    },
    {
      "cell_type": "markdown",
      "metadata": {},
      "source": [
        "- nameof\n",
        "    - https://docs.microsoft.com/en-us/dotnet/csharp/language-reference/operators/nameof\n",
        "\n",
        "    - https://stackoverflow.com/questions/31695900/what-is-the-purpose-of-nameof\n",
        ""
      ]
    },
    {
      "cell_type": "code",
      "execution_count": 1,
      "metadata": {
        "dotnet_interactive": {
          "language": "csharp"
        }
      },
      "source": [
        "using System.ComponentModel;\n",
        "WriteLine($\"What did we name Superman variable : {nameof(Superman)}\");\n",
        "\n",
        "public class Person \n",
        "{\n",
        "    private string _name;\n",
        "    public string Name\n",
        "    {\n",
        "        get => _name;\n",
        "        set => _name = value ?? \n",
        "            throw new ArgumentNullException(\n",
        "                nameof(value), \n",
        "                $\"{nameof(Name)} cannot be null\");\n",
        "    }\n",
        "}\n",
        "\n",
        "Person jay = new Person();\n",
        "jay.Name = \"Jay\";\n",
        "Console.WriteLine(jay.Name);\n",
        "\n",
        "// verbatim identifiers [@ before C# keyword null]\n",
        "Person @null = new Person();\n",
        "@null.Name = \"Null\";\n",
        "// uncomment the following line to see the exception being thrown\n",
        "//@null.Name = null;\n",
        "Console.WriteLine(@null.Name);\n",
        "\n",
        "\n",
        "// Another example : Property changed notification\n",
        "\n",
        "public class Model : INotifyPropertyChanged\n",
        "{\n",
        "    // From the INotifyPropertyChanged interface\n",
        "    public event PropertyChangedEventHandler PropertyChanged;\n",
        "\n",
        "    private string foo;\n",
        "    public String Foo\n",
        "    {\n",
        "        get { return this.foo; }\n",
        "        set\n",
        "        {\n",
        "            this.foo = value;\n",
        "            // Old code:\n",
        "            PropertyChanged(this, new PropertyChangedEventArgs(\"Foo\"));\n",
        "\n",
        "            // New Code after C# 6.0\n",
        "            PropertyChanged(this, new PropertyChangedEventArgs(nameof(Foo)));           \n",
        "        }\n",
        "    }\n",
        "}\n",
        "\n",
        ""
      ],
      "outputs": [
        {
          "output_type": "execute_result",
          "data": {
            "text/plain": "What did we name Superman variable : Superman\n"
          },
          "execution_count": 1,
          "metadata": {}
        },
        {
          "output_type": "execute_result",
          "data": {
            "text/plain": "Jay\n"
          },
          "execution_count": 1,
          "metadata": {}
        },
        {
          "output_type": "execute_result",
          "data": {
            "text/plain": "Null\n"
          },
          "execution_count": 1,
          "metadata": {}
        }
      ]
    },
    {
      "cell_type": "markdown",
      "metadata": {},
      "source": [
        "> VERBATIM IDENTIFIERS\n",
        "    - https://docs.microsoft.com/en-us/dotnet/csharp/language-reference/tokens/verbatim\n",
        "    - c# keywords to identifiers\n",
        "    - verbatim string literal\n",
        "    - distinguish between attributes if naming conflict arises\n",
        ""
      ]
    },
    {
      "cell_type": "code",
      "execution_count": 1,
      "metadata": {
        "dotnet_interactive": {
          "language": "csharp"
        }
      },
      "source": [
        "string[] @for = { \"John\", \"James\", \"Joan\", \"Jamie\" };\n",
        "for (int ctr = 0; ctr < @for.Length; ctr++)\n",
        "{\n",
        "   Console.WriteLine($\"Here is your gift, {@for[ctr]}!\");\n",
        "}"
      ],
      "outputs": []
    },
    {
      "cell_type": "markdown",
      "metadata": {},
      "source": [
        "#### New in C# 7.0 >> 7.3\n",
        "\n",
        "\n",
        "##### C# 7.0\n",
        "\n",
        "- Out variables\n",
        "    - Out params on the fly\n",
        "    - Discard out params, that we are not interested in\n",
        "\n",
        "- Type patterns & Pattern Variables\n",
        "    - Pattern Variables : Introduce variables on the fly with 'is'\n",
        "    - Improved switch\n",
        "\n",
        "- Local Methods\n",
        "    - Method within a method\n",
        "    \n",
        "- More expression bodied members\n",
        "    - C# 6 introduced them for methods, read only properties, operators and indexers\n",
        "    - Extends to constructors, read/write properties, finalizers\n",
        "\n",
        "- Deconstructors\n",
        "\n",
        "- Tuples\n",
        "\n",
        "- Throw expressions\n",
        "\n",
        "##### C# 7.1\n",
        "- Omit type with default ????\n",
        "- Switch: pattern match on generic type param\n",
        "- Numeric Literal Improvements\n",
        "\n",
        "##### C# 7.2\n",
        "- private protected modifier (intersection of internal & protected )\n",
        "- follow named arguments with positional ones\n",
        "- readonly structs\n",
        "- in modifier, ref locals, ref returns, ref structs\n",
        "\n",
        "##### C# 7.3\n",
        "\n",
        "- Equality operators with Tuples\n",
        "- Overload resolution improved\n",
        "- Apply attributes to backing fields\n",
        ""
      ]
    },
    {
      "cell_type": "markdown",
      "metadata": {},
      "source": [
        ""
      ]
    }
  ],
  "metadata": {
    "kernelspec": {
      "display_name": ".NET (C#)",
      "language": "C#",
      "name": ".net-csharp"
    },
    "language_info": {
      "file_extension": ".cs",
      "mimetype": "text/x-csharp",
      "name": "C#",
      "pygments_lexer": "csharp",
      "version": "8.0"
    }
  },
  "nbformat": 4,
  "nbformat_minor": 4
}