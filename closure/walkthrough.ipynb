{
 "cells": [
  {
   "cell_type": "markdown",
   "source": [
    "# Hello Closures!"
   ],
   "metadata": {}
  },
  {
   "cell_type": "code",
   "execution_count": null,
   "source": [
    "// let's write a function\n",
    "\n",
    "string PeppyGreeter(string name)\n",
    "{\n",
    "    return $\"Hello {name}!!!\";\n",
    "}\n",
    "\n",
    "string TexasGreeter(string name)\n",
    "{\n",
    "    return $\"Howdy {name}!\";\n",
    "}\n",
    "\n",
    "string IndianGreeter(string name)\n",
    "{\n",
    "    return $\"नमसते, {name}|\";\n",
    "}\n",
    "\n",
    "void GreetCustomers()\n",
    "{\n",
    "    Console.WriteLine(PeppyGreeter(\"Shailesh\"));\n",
    "    Console.WriteLine(TexasGreeter(\"Vincent\"));\n",
    "    Console.WriteLine(IndianGreeter(\"Songwen\"));\n",
    "}\n",
    "\n",
    "// invoke the function\n",
    "GreetCustomers();"
   ],
   "outputs": [
    {
     "data": {
      "text/plain": [
       "Hello Shailesh!!!\n"
      ]
     },
     "metadata": {},
     "output_type": "display_data"
    },
    {
     "data": {
      "text/plain": [
       "Howdy Vincent!\n"
      ]
     },
     "metadata": {},
     "output_type": "display_data"
    },
    {
     "data": {
      "text/plain": [
       "नमसते, Songwen|\n"
      ]
     },
     "metadata": {},
     "output_type": "display_data"
    }
   ],
   "metadata": {
    "dotnet_interactive": {
     "language": "csharp"
    }
   }
  },
  {
   "cell_type": "markdown",
   "source": [
    "## Anonymous functions"
   ],
   "metadata": {}
  },
  {
   "cell_type": "code",
   "execution_count": null,
   "source": [
    "delegate string Greeter(string name);\n",
    "\n",
    "void GreetCustomersAnonymously()\n",
    "{\n",
    "    //Greeter texan = function (string name) { return $\"Howdy {name}!\"; };\n",
    "    Greeter texan = delegate (string name) \n",
    "    { \n",
    "        return $\"Howdy {name}!\"; \n",
    "    };\n",
    "    Greeter indian = delegate (string name) { return $\"नमसते, {name}|\"; };\n",
    "    Greeter cheerful = delegate (string name) { return $\"Hello {name}!!!\"; };\n",
    "    Console.WriteLine(texan(\"Shailesh\"));\n",
    "    Console.WriteLine(indian(\"Vincent\"));\n",
    "    Console.WriteLine(cheerful(\"Lejing\"));\n",
    "}\n",
    "\n",
    "// invoke\n",
    "GreetCustomersAnonymously();"
   ],
   "outputs": [
    {
     "data": {
      "text/plain": [
       "Howdy Shailesh!\n"
      ]
     },
     "metadata": {},
     "output_type": "display_data"
    },
    {
     "data": {
      "text/plain": [
       "नमसते, Vincent|\n"
      ]
     },
     "metadata": {},
     "output_type": "display_data"
    },
    {
     "data": {
      "text/plain": [
       "Hello Lejing!!!\n"
      ]
     },
     "metadata": {},
     "output_type": "display_data"
    }
   ],
   "metadata": {
    "dotnet_interactive": {
     "language": "csharp"
    }
   }
  },
  {
   "cell_type": "markdown",
   "source": [
    "## Lambdas"
   ],
   "metadata": {}
  },
  {
   "cell_type": "code",
   "execution_count": null,
   "source": [
    "Func<string, string> txn = (name) => $\"Howdy {name}\";\n",
    "Func<string, string> indn = (name) => $\"नमसते, {name}|\";\n",
    "Func<string, string> chns = (name) => $\"你好 {name}\";\n",
    "Func<string, string> spnsh = (name) => $\"Hola {name}\";\n",
    "\n",
    "\n",
    "//delegate void Printer(string msg);\n",
    "Action<object> Print = (msg) => Console.WriteLine(msg);\n",
    "Action<string> PrintString = (s) => Console.WriteLine(s);\n",
    "// Func for value returning delegates\n",
    "// Action for non returning delegates\n",
    "// Predicates for bool delegates\n",
    "// object : base class (everything inherits from this) (ToString())\n",
    "//Console.WriteLine(obj.ToString());\n",
    "\n",
    "void GreetCustomersInLamborghinis()\n",
    "{\n",
    "    //int s = ;\n",
    "    //Print(adder(2,3).ToString());\n",
    "    Print(adder(2,3));\n",
    "    Print(chns(\"Jay\"));\n",
    "    Console.WriteLine(chns(\"Shailesh\"));\n",
    "    Console.WriteLine(spnsh(\"Vincent\"));\n",
    "    Console.WriteLine(indn(\"Lejing\"));\n",
    "}\n",
    "\n",
    "// invoke\n",
    "GreetCustomersInLamborghinis();"
   ],
   "outputs": [
    {
     "data": {
      "text/plain": [
       "5\n"
      ]
     },
     "metadata": {},
     "output_type": "display_data"
    },
    {
     "data": {
      "text/plain": [
       "你好 Jay\n"
      ]
     },
     "metadata": {},
     "output_type": "display_data"
    },
    {
     "data": {
      "text/plain": [
       "你好 Shailesh\n"
      ]
     },
     "metadata": {},
     "output_type": "display_data"
    },
    {
     "data": {
      "text/plain": [
       "Hola Vincent\n"
      ]
     },
     "metadata": {},
     "output_type": "display_data"
    },
    {
     "data": {
      "text/plain": [
       "नमसते, Lejing|\n"
      ]
     },
     "metadata": {},
     "output_type": "display_data"
    }
   ],
   "metadata": {
    "dotnet_interactive": {
     "language": "csharp"
    }
   }
  },
  {
   "cell_type": "code",
   "execution_count": null,
   "source": [
    "class Cmplx { \n",
    "    public int R; public int I; \n",
    "    public override string ToString() => $\"{R}+{I}i\";\n",
    "}\n",
    "\n",
    "Func<int, int, int> adder = (x,y) => x + y;\n",
    "adder(2,3);\n",
    "Print(adder(2,3));\n",
    "\n",
    "Func<Cmplx, Cmplx, Cmplx> addCmplx = (x,y) => new Cmplx() { R = x.R + y.R, I = x.I + y.I };\n",
    "Cmplx c = addCmplx(new Cmplx(){R = 2, I = 3}, new Cmplx() {R = 4, I = 6});\n",
    "Print(c);\n",
    "\n",
    "delegate int AddTwoNumbers(int x, int y);\n",
    "AddTwoNumbers adder2 = delegate(int x, int y) { return x + y; };\n",
    "AddTwoNumbers adder3 = delegate(int x, int y) { return x + 2*y; };\n",
    "Console.WriteLine(adder2(3,4));\n",
    "Console.WriteLine(adder3(3,4)); // prints 11 = 3+2*4\n",
    "\n"
   ],
   "outputs": [
    {
     "data": {
      "text/plain": [
       "5\n"
      ]
     },
     "metadata": {},
     "output_type": "display_data"
    },
    {
     "data": {
      "text/plain": [
       "6+9i\n"
      ]
     },
     "metadata": {},
     "output_type": "display_data"
    },
    {
     "data": {
      "text/plain": [
       "7\n"
      ]
     },
     "metadata": {},
     "output_type": "display_data"
    },
    {
     "data": {
      "text/plain": [
       "11\n"
      ]
     },
     "metadata": {},
     "output_type": "display_data"
    }
   ],
   "metadata": {
    "dotnet_interactive": {
     "language": "csharp"
    }
   }
  },
  {
   "cell_type": "markdown",
   "source": [],
   "metadata": {}
  },
  {
   "cell_type": "code",
   "execution_count": null,
   "source": [
    "void Restaurant()\n",
    "{\n",
    "    //int _occupancy;\n",
    "\n",
    "    //  [\n",
    "    //     Enter: () => _occupancy++,\n",
    "    //     Exit: () => _occupancy--,\n",
    "    //     Occupancy: () => _occupancy,\n",
    "    // ];\n",
    "\n",
    "    return;\n",
    "}\n",
    "\n",
    "// var Dominos = Restaurant();\n",
    "// Dominos.Enter();"
   ],
   "outputs": [],
   "metadata": {
    "dotnet_interactive": {
     "language": "csharp"
    }
   }
  },
  {
   "cell_type": "markdown",
   "source": [
    "## References\n",
    "\n",
    "[Anonymous functions](https://docs.microsoft.com/en-us/dotnet/csharp/programming-guide/statements-expressions-operators/anonymous-functions)  \n",
    "[Simple Closure Explanation](https://www.simplethread.com/c-closures-explained/)  \n",
    "[Delegates, Lambdas, Closures in C#](https://www.alanzucconi.com/2021/03/13/delegates-lambda-closures/)  \n",
    "[Eric Lippert: Closing over loop variables : P1](https://ericlippert.com/2009/11/12/closing-over-the-loop-variable-considered-harmful-part-one/)  \n",
    "[Eric Lippert: Closing over loop variables : P2](https://ericlippert.com/2009/11/16/closing-over-the-loop-variable-considered-harmful-part-two/)  "
   ],
   "metadata": {}
  }
 ],
 "metadata": {
  "orig_nbformat": 4,
  "language_info": {
   "file_extension": ".cs",
   "mimetype": "text/x-csharp",
   "name": "C#",
   "pygments_lexer": "csharp",
   "version": "9.0"
  },
  "kernelspec": {
   "display_name": ".NET (C#)",
   "language": "C#",
   "name": ".net-csharp"
  }
 },
 "nbformat": 4,
 "nbformat_minor": 2
}