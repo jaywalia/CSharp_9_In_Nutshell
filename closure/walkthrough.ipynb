{
 "cells": [
  {
   "cell_type": "markdown",
   "source": [
    "# Hello Closures!"
   ],
   "metadata": {}
  },
  {
   "cell_type": "code",
   "execution_count": null,
   "source": [
    "// let's write a function\n",
    "\n",
    "string PeppyGreeter(string name)\n",
    "{\n",
    "    return $\"Hello {name}!!!\";\n",
    "}\n",
    "\n",
    "string TexasGreeter(string name)\n",
    "{\n",
    "    return $\"Howdy {name}!\";\n",
    "}\n",
    "\n",
    "string IndianGreeter(string name)\n",
    "{\n",
    "    return $\"नमसते, {name}|\";\n",
    "}\n",
    "\n",
    "void GreetCustomers()\n",
    "{\n",
    "    Console.WriteLine(PeppyGreeter(\"Shailesh\"));\n",
    "    Console.WriteLine(TexasGreeter(\"Vincent\"));\n",
    "    Console.WriteLine(IndianGreeter(\"Songwen\"));\n",
    "}\n",
    "\n",
    "// invoke the function\n",
    "GreetCustomers();"
   ],
   "outputs": [],
   "metadata": {
    "dotnet_interactive": {
     "language": "csharp"
    }
   }
  },
  {
   "cell_type": "markdown",
   "source": [
    "## Anonymous functions"
   ],
   "metadata": {}
  },
  {
   "cell_type": "code",
   "execution_count": null,
   "source": [
    "delegate string Greeter(string name);\n",
    "\n",
    "void GreetCustomersAnonymously()\n",
    "{\n",
    "    //Greeter texan = function (string name) { return $\"Howdy {name}!\"; };\n",
    "    Greeter texan = delegate (string name) \n",
    "    { \n",
    "        return $\"Howdy {name}!\"; \n",
    "    };\n",
    "    Greeter indian = delegate (string name) { return $\"नमसते, {name}|\"; };\n",
    "    Greeter cheerful = delegate (string name) { return $\"Hello {name}!!!\"; };\n",
    "    Console.WriteLine(texan(\"Shailesh\"));\n",
    "    Console.WriteLine(indian(\"Vincent\"));\n",
    "    Console.WriteLine(cheerful(\"Lejing\"));\n",
    "}\n",
    "\n",
    "// invoke\n",
    "GreetCustomersAnonymously();"
   ],
   "outputs": [],
   "metadata": {
    "dotnet_interactive": {
     "language": "csharp"
    }
   }
  },
  {
   "cell_type": "markdown",
   "source": [
    "## Lambdas"
   ],
   "metadata": {}
  },
  {
   "cell_type": "code",
   "execution_count": null,
   "source": [
    "Func<string, string> txn = (name) => $\"Howdy {name}\";\n",
    "Func<string, string> indn = (name) => $\"नमसते, {name}|\";\n",
    "Func<string, string> chns = (name) => $\"你好 {name}\";\n",
    "Func<string, string> spnsh = (name) => $\"Hola {name}\";\n",
    "\n",
    "\n",
    "//delegate void Printer(string msg);\n",
    "Action<object> Print = (msg) => Console.WriteLine(msg);\n",
    "Action<string> PrintString = (s) => Console.WriteLine(s);\n",
    "// Func for value returning delegates\n",
    "// Action for non returning delegates\n",
    "// Predicates for bool delegates\n",
    "// object : base class (everything inherits from this) (ToString())\n",
    "//Console.WriteLine(obj.ToString());\n",
    "\n",
    "void GreetCustomersInLamborghinis()\n",
    "{\n",
    "    //int s = ;\n",
    "    //Print(adder(2,3).ToString());\n",
    "    Print(adder(2,3));\n",
    "    Print(chns(\"Jay\"));\n",
    "    Console.WriteLine(chns(\"Shailesh\"));\n",
    "    Console.WriteLine(spnsh(\"Vincent\"));\n",
    "    Console.WriteLine(indn(\"Lejing\"));\n",
    "}\n",
    "\n",
    "// invoke\n",
    "GreetCustomersInLamborghinis();"
   ],
   "outputs": [],
   "metadata": {
    "dotnet_interactive": {
     "language": "csharp"
    }
   }
  },
  {
   "cell_type": "code",
   "execution_count": null,
   "source": [
    "class Cmplx { \n",
    "    public int R; public int I; \n",
    "    public override string ToString() => $\"{R}+{I}i\";\n",
    "}\n",
    "\n",
    "Func<int, int, int> adder = (x,y) => x + y;\n",
    "adder(2,3);\n",
    "Print(adder(2,3));\n",
    "\n",
    "Func<Cmplx, Cmplx, Cmplx> addCmplx = (x,y) => new Cmplx() { R = x.R + y.R, I = x.I + y.I };\n",
    "Cmplx c = addCmplx(new Cmplx(){R = 2, I = 3}, new Cmplx() {R = 4, I = 6});\n",
    "Print(c);\n",
    "\n",
    "delegate int AddTwoNumbers(int x, int y);\n",
    "AddTwoNumbers adder2 = delegate(int x, int y) { return x + y; };\n",
    "AddTwoNumbers adder3 = delegate(int x, int y) { return x + 2*y; };\n",
    "Console.WriteLine(adder2(3,4));\n",
    "Console.WriteLine(adder3(3,4)); // prints 11 = 3+2*4\n",
    "\n"
   ],
   "outputs": [],
   "metadata": {
    "dotnet_interactive": {
     "language": "csharp"
    }
   }
  },
  {
   "cell_type": "markdown",
   "source": [],
   "metadata": {}
  },
  {
   "cell_type": "code",
   "execution_count": null,
   "source": [
    "// restaurant is a function\n",
    "// it returns a dictionary of functions : enter, exit and occupancy\n",
    "// the functions close on _occupancy variable\n",
    "// _occupancy variable will be moved to heap to exist after \n",
    "// frame for function Restaurant has been removed from stack\n",
    "// so that _occupancy variable is available for both Dominos and PizzaHut\n",
    "\n",
    "Dictionary<string, Func<int, int>> Restaurant()\n",
    "{\n",
    "    int _occupancy  = 0;\n",
    "    \n",
    "    return new Dictionary<string, Func<int, int>>(){\n",
    "        { \"Enter\", (int people) => _occupancy+=people },\n",
    "        { \"Exit\", (int people) => _occupancy-=people },\n",
    "        { \"Occupancy\", (int n) => _occupancy },\n",
    "    };\n",
    "}\n",
    "\n",
    "var Dominos = Restaurant();\n",
    "Dominos[\"Enter\"](5);\n",
    "Dominos[\"Exit\"](2);\n",
    "Print(\"People in Dominos now:\" + Dominos[\"Occupancy\"](0));\n",
    "\n",
    "var PizzaHut = Restaurant();\n",
    "PizzaHut[\"Enter\"](7);\n",
    "PizzaHut[\"Exit\"](3);\n",
    "Print(\"People in PizzaHut now:\" + PizzaHut[\"Occupancy\"](4));\n"
   ],
   "outputs": [],
   "metadata": {
    "dotnet_interactive": {
     "language": "csharp"
    }
   }
  },
  {
   "cell_type": "markdown",
   "source": [
    "## References\n",
    "\n",
    "[Anonymous functions](https://docs.microsoft.com/en-us/dotnet/csharp/programming-guide/statements-expressions-operators/anonymous-functions)  \n",
    "[Simple Closure Explanation](https://www.simplethread.com/c-closures-explained/)  \n",
    "[Delegates, Lambdas, Closures in C#](https://www.alanzucconi.com/2021/03/13/delegates-lambda-closures/)  \n",
    "[Eric Lippert: Closing over loop variables : P1](https://ericlippert.com/2009/11/12/closing-over-the-loop-variable-considered-harmful-part-one/)  \n",
    "[Eric Lippert: Closing over loop variables : P2](https://ericlippert.com/2009/11/16/closing-over-the-loop-variable-considered-harmful-part-two/)  \n",
    "[.Net Func Delegate](https://docs.microsoft.com/en-us/dotnet/api/system.func-2?view=net-5.0)"
   ],
   "metadata": {}
  }
 ],
 "metadata": {
  "orig_nbformat": 4,
  "language_info": {
   "file_extension": ".cs",
   "mimetype": "text/x-csharp",
   "name": "C#",
   "pygments_lexer": "csharp",
   "version": "9.0"
  },
  "kernelspec": {
   "display_name": ".NET (C#)",
   "language": "C#",
   "name": ".net-csharp"
  }
 },
 "nbformat": 4,
 "nbformat_minor": 2
}